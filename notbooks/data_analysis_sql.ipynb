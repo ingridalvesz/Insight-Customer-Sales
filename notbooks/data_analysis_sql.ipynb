{
 "cells": [
  {
   "cell_type": "code",
   "execution_count": 1,
   "id": "59174319",
   "metadata": {},
   "outputs": [
    {
     "name": "stdout",
     "output_type": "stream",
     "text": [
      "ERRO: Arquivo não encontrado - c:\\Users\\ingri\\OneDrive\\Desktop\\Insight Customer Sales\\dados\\refined\\fato_vendas.parquet\n",
      "Execute esta célula para ver o diretório atual:\n",
      "import os; print(os.getcwd())\n"
     ]
    },
    {
     "ename": "FileNotFoundError",
     "evalue": "Arquivo fato_vendas não encontrado",
     "output_type": "error",
     "traceback": [
      "\u001b[1;31m---------------------------------------------------------------------------\u001b[0m",
      "\u001b[1;31mFileNotFoundError\u001b[0m                         Traceback (most recent call last)",
      "Cell \u001b[1;32mIn[1], line 26\u001b[0m\n\u001b[0;32m     24\u001b[0m         \u001b[38;5;28mprint\u001b[39m(\u001b[38;5;124m\"\u001b[39m\u001b[38;5;124mExecute esta célula para ver o diretório atual:\u001b[39m\u001b[38;5;124m\"\u001b[39m)\n\u001b[0;32m     25\u001b[0m         \u001b[38;5;28mprint\u001b[39m(\u001b[38;5;124m\"\u001b[39m\u001b[38;5;124mimport os; print(os.getcwd())\u001b[39m\u001b[38;5;124m\"\u001b[39m)\n\u001b[1;32m---> 26\u001b[0m         \u001b[38;5;28;01mraise\u001b[39;00m \u001b[38;5;167;01mFileNotFoundError\u001b[39;00m(\u001b[38;5;124mf\u001b[39m\u001b[38;5;124m\"\u001b[39m\u001b[38;5;124mArquivo \u001b[39m\u001b[38;5;132;01m{\u001b[39;00mnome\u001b[38;5;132;01m}\u001b[39;00m\u001b[38;5;124m não encontrado\u001b[39m\u001b[38;5;124m\"\u001b[39m)\n\u001b[0;32m     28\u001b[0m \u001b[38;5;66;03m# 4. Conexão DuckDB e criação das views\u001b[39;00m\n\u001b[0;32m     29\u001b[0m conn \u001b[38;5;241m=\u001b[39m duckdb\u001b[38;5;241m.\u001b[39mconnect()\n",
      "\u001b[1;31mFileNotFoundError\u001b[0m: Arquivo fato_vendas não encontrado"
     ]
    }
   ],
   "source": [
    "import duckdb\n",
    "from pathlib import Path\n",
    "import os\n",
    "\n",
    "# 1. Encontrar o diretório base do projeto\n",
    "try:\n",
    "    BASE_DIR = Path(__file__).resolve().parent.parent  # Para scripts .py\n",
    "except NameError:\n",
    "    BASE_DIR = Path(os.getcwd()).parent  # Para notebooks Jupyter\n",
    "\n",
    "# 2. Construir caminhos absolutos\n",
    "PARQUET_DIR = BASE_DIR / \"dados\" / \"refined\"\n",
    "paths = {\n",
    "    \"fato_vendas\": PARQUET_DIR / \"fato_vendas.parquet\",\n",
    "    \"dim_cliente\": PARQUET_DIR / \"dim_cliente.parquet\",\n",
    "    \"dim_tempo\": PARQUET_DIR / \"dim_tempo.parquet\",\n",
    "    \"dim_produto\": PARQUET_DIR / \"dim_produto.parquet\"\n",
    "}\n",
    "\n",
    "# 3. Verificar se os arquivos existem\n",
    "for nome, caminho in paths.items():\n",
    "    if not caminho.exists():\n",
    "        print(f\"ERRO: Arquivo não encontrado - {caminho}\")\n",
    "        print(\"Execute esta célula para ver o diretório atual:\")\n",
    "        print(\"import os; print(os.getcwd())\")\n",
    "        raise FileNotFoundError(f\"Arquivo {nome} não encontrado\")\n",
    "\n",
    "# 4. Conexão DuckDB e criação das views\n",
    "conn = duckdb.connect()\n",
    "\n",
    "# Criar views com caminhos absolutos garantidos\n",
    "for nome, caminho in paths.items():\n",
    "    conn.execute(f\"\"\"\n",
    "    CREATE OR REPLACE TEMP VIEW {nome} AS \n",
    "    SELECT * FROM '{caminho}'\n",
    "    \"\"\")\n"
   ]
  }
 ],
 "metadata": {
  "kernelspec": {
   "display_name": "Python 3",
   "language": "python",
   "name": "python3"
  },
  "language_info": {
   "codemirror_mode": {
    "name": "ipython",
    "version": 3
   },
   "file_extension": ".py",
   "mimetype": "text/x-python",
   "name": "python",
   "nbconvert_exporter": "python",
   "pygments_lexer": "ipython3",
   "version": "3.11.9"
  }
 },
 "nbformat": 4,
 "nbformat_minor": 5
}
