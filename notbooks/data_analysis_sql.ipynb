{
 "cells": [
  {
   "cell_type": "code",
   "execution_count": 3,
   "id": "59174319",
   "metadata": {},
   "outputs": [
    {
     "name": "stdout",
     "output_type": "stream",
     "text": [
      "Collecting duckdb\n",
      "  Using cached duckdb-1.3.2-cp313-cp313-win_amd64.whl.metadata (7.2 kB)\n",
      "Using cached duckdb-1.3.2-cp313-cp313-win_amd64.whl (11.4 MB)\n",
      "Installing collected packages: duckdb\n",
      "Successfully installed duckdb-1.3.2\n"
     ]
    }
   ],
   "source": [
    "\n",
    "import sys\n",
    "!{sys.executable} -m pip install duckdb\n",
    "import duckdb\n",
    "from pathlib import Path\n",
    "import os\n",
    "\n",
    "# 1. Encontrar o diretório base do projeto\n",
    "try:\n",
    "    BASE_DIR = Path(__file__).resolve().parent.parent  # Para scripts .py\n",
    "except NameError:\n",
    "    BASE_DIR = Path(os.getcwd()).parent  # Para notebooks Jupyter\n",
    "\n",
    "# 2. Construir caminhos absolutos\n",
    "PARQUET_DIR = BASE_DIR / \"dados\" / \"refined\"\n",
    "paths = {\n",
    "    \"fato_vendas\": PARQUET_DIR / \"fato_vendas.parquet\",\n",
    "    \"dim_cliente\": PARQUET_DIR / \"dim_cliente.parquet\",\n",
    "    \"dim_tempo\": PARQUET_DIR / \"dim_tempo.parquet\",\n",
    "    \"dim_produto\": PARQUET_DIR / \"dim_produto.parquet\"\n",
    "}\n",
    "\n",
    "# 3. Verificar se os arquivos existem\n",
    "for nome, caminho in paths.items():\n",
    "    if not caminho.exists():\n",
    "        print(f\"ERRO: Arquivo não encontrado - {caminho}\")\n",
    "        print(\"Execute esta célula para ver o diretório atual:\")\n",
    "        print(\"import os; print(os.getcwd())\")\n",
    "        raise FileNotFoundError(f\"Arquivo {nome} não encontrado\")\n",
    "\n",
    "# 4. Conexão DuckDB e criação das views\n",
    "conn = duckdb.connect()\n",
    "\n",
    "# Criar views com caminhos absolutos garantidos\n",
    "for nome, caminho in paths.items():\n",
    "        conn.execute(f\"\"\"\n",
    "        CREATE OR REPLACE TEMP VIEW {nome} AS \n",
    "        SELECT * FROM '{caminho}'\n",
    "        \"\"\")\n"
   ]
  }
 ],
 "metadata": {
  "kernelspec": {
   "display_name": "Python 3",
   "language": "python",
   "name": "python3"
  },
  "language_info": {
   "codemirror_mode": {
    "name": "ipython",
    "version": 3
   },
   "file_extension": ".py",
   "mimetype": "text/x-python",
   "name": "python",
   "nbconvert_exporter": "python",
   "pygments_lexer": "ipython3",
   "version": "3.13.6"
  }
 },
 "nbformat": 4,
 "nbformat_minor": 5
}
