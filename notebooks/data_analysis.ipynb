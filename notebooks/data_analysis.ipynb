{
 "cells": [
  {
   "cell_type": "code",
   "execution_count": 2,
   "id": "41ba1a69",
   "metadata": {},
   "outputs": [],
   "source": [
    "# Importando Biblioteca\n",
    "import pandas as pd\n",
    "\n",
    "\n",
    "from pathlib import Path"
   ]
  },
  {
   "cell_type": "code",
   "execution_count": 3,
   "id": "e799334a",
   "metadata": {},
   "outputs": [],
   "source": [
    "# Caminho de origem dos dados já tratados\n",
    "caminho_csv = Path(\"../dados/trusted/dados_tratados.csv\")"
   ]
  },
  {
   "cell_type": "code",
   "execution_count": 4,
   "id": "b564398e",
   "metadata": {},
   "outputs": [
    {
     "data": {
      "text/html": [
       "<div>\n",
       "<style scoped>\n",
       "    .dataframe tbody tr th:only-of-type {\n",
       "        vertical-align: middle;\n",
       "    }\n",
       "\n",
       "    .dataframe tbody tr th {\n",
       "        vertical-align: top;\n",
       "    }\n",
       "\n",
       "    .dataframe thead th {\n",
       "        text-align: right;\n",
       "    }\n",
       "</style>\n",
       "<table border=\"1\" class=\"dataframe\">\n",
       "  <thead>\n",
       "    <tr style=\"text-align: right;\">\n",
       "      <th></th>\n",
       "      <th>id_compra</th>\n",
       "      <th>data</th>\n",
       "      <th>horario</th>\n",
       "      <th>ano</th>\n",
       "      <th>mes</th>\n",
       "      <th>dia_semana</th>\n",
       "      <th>categoria</th>\n",
       "      <th>preco_unitario</th>\n",
       "      <th>quantidade</th>\n",
       "      <th>frete</th>\n",
       "      <th>valor_total</th>\n",
       "      <th>metodo_pagamento</th>\n",
       "      <th>id_cliente</th>\n",
       "      <th>cidade</th>\n",
       "      <th>uf</th>\n",
       "      <th>regiao</th>\n",
       "      <th>idade</th>\n",
       "      <th>sexo_biologico</th>\n",
       "      <th>cashback</th>\n",
       "      <th>avaliacao_compra</th>\n",
       "    </tr>\n",
       "  </thead>\n",
       "  <tbody>\n",
       "    <tr>\n",
       "      <th>0</th>\n",
       "      <td>6</td>\n",
       "      <td>2023-01-03</td>\n",
       "      <td>20:40</td>\n",
       "      <td>2023</td>\n",
       "      <td>1</td>\n",
       "      <td>Tuesday</td>\n",
       "      <td>Eletrônicos</td>\n",
       "      <td>4457.9</td>\n",
       "      <td>4</td>\n",
       "      <td>713.26</td>\n",
       "      <td>18544.86</td>\n",
       "      <td>Boleto</td>\n",
       "      <td>6149</td>\n",
       "      <td>Porto Alegre</td>\n",
       "      <td>Rio Grande Do Sul</td>\n",
       "      <td>Sul</td>\n",
       "      <td>30</td>\n",
       "      <td>Masculino</td>\n",
       "      <td>1</td>\n",
       "      <td>10</td>\n",
       "    </tr>\n",
       "    <tr>\n",
       "      <th>1</th>\n",
       "      <td>5</td>\n",
       "      <td>2023-01-03</td>\n",
       "      <td>21:48</td>\n",
       "      <td>2023</td>\n",
       "      <td>1</td>\n",
       "      <td>Tuesday</td>\n",
       "      <td>Ferramentas E Construção</td>\n",
       "      <td>115.9</td>\n",
       "      <td>1</td>\n",
       "      <td>0.00</td>\n",
       "      <td>115.90</td>\n",
       "      <td>PIX</td>\n",
       "      <td>9491</td>\n",
       "      <td>São Paulo</td>\n",
       "      <td>São Paulo</td>\n",
       "      <td>Sudeste</td>\n",
       "      <td>36</td>\n",
       "      <td>Masculino</td>\n",
       "      <td>1</td>\n",
       "      <td>8</td>\n",
       "    </tr>\n",
       "    <tr>\n",
       "      <th>2</th>\n",
       "      <td>9</td>\n",
       "      <td>2023-01-03</td>\n",
       "      <td>17:08</td>\n",
       "      <td>2023</td>\n",
       "      <td>1</td>\n",
       "      <td>Tuesday</td>\n",
       "      <td>Beleza E Cuidados Pessoais</td>\n",
       "      <td>68.9</td>\n",
       "      <td>2</td>\n",
       "      <td>13.78</td>\n",
       "      <td>151.58</td>\n",
       "      <td>Cartão de Crédito</td>\n",
       "      <td>5288</td>\n",
       "      <td>Porto Velho</td>\n",
       "      <td>Rondônia</td>\n",
       "      <td>Norte</td>\n",
       "      <td>39</td>\n",
       "      <td>Feminino</td>\n",
       "      <td>0</td>\n",
       "      <td>7</td>\n",
       "    </tr>\n",
       "    <tr>\n",
       "      <th>3</th>\n",
       "      <td>4</td>\n",
       "      <td>2023-01-03</td>\n",
       "      <td>14:29</td>\n",
       "      <td>2023</td>\n",
       "      <td>1</td>\n",
       "      <td>Tuesday</td>\n",
       "      <td>Ferramentas E Construção</td>\n",
       "      <td>80.9</td>\n",
       "      <td>5</td>\n",
       "      <td>40.45</td>\n",
       "      <td>444.95</td>\n",
       "      <td>PIX</td>\n",
       "      <td>9679</td>\n",
       "      <td>Recife</td>\n",
       "      <td>Pernambuco</td>\n",
       "      <td>Nordeste</td>\n",
       "      <td>35</td>\n",
       "      <td>Masculino</td>\n",
       "      <td>1</td>\n",
       "      <td>9</td>\n",
       "    </tr>\n",
       "    <tr>\n",
       "      <th>4</th>\n",
       "      <td>8</td>\n",
       "      <td>2023-01-03</td>\n",
       "      <td>18:02</td>\n",
       "      <td>2023</td>\n",
       "      <td>1</td>\n",
       "      <td>Tuesday</td>\n",
       "      <td>Beleza E Cuidados Pessoais</td>\n",
       "      <td>165.0</td>\n",
       "      <td>4</td>\n",
       "      <td>0.00</td>\n",
       "      <td>660.00</td>\n",
       "      <td>PIX</td>\n",
       "      <td>1380</td>\n",
       "      <td>São Paulo</td>\n",
       "      <td>São Paulo</td>\n",
       "      <td>Sudeste</td>\n",
       "      <td>50</td>\n",
       "      <td>Masculino</td>\n",
       "      <td>0</td>\n",
       "      <td>9</td>\n",
       "    </tr>\n",
       "  </tbody>\n",
       "</table>\n",
       "</div>"
      ],
      "text/plain": [
       "   id_compra        data horario   ano  mes dia_semana  \\\n",
       "0          6  2023-01-03   20:40  2023    1    Tuesday   \n",
       "1          5  2023-01-03   21:48  2023    1    Tuesday   \n",
       "2          9  2023-01-03   17:08  2023    1    Tuesday   \n",
       "3          4  2023-01-03   14:29  2023    1    Tuesday   \n",
       "4          8  2023-01-03   18:02  2023    1    Tuesday   \n",
       "\n",
       "                    categoria  preco_unitario  quantidade   frete  \\\n",
       "0                 Eletrônicos          4457.9           4  713.26   \n",
       "1    Ferramentas E Construção           115.9           1    0.00   \n",
       "2  Beleza E Cuidados Pessoais            68.9           2   13.78   \n",
       "3    Ferramentas E Construção            80.9           5   40.45   \n",
       "4  Beleza E Cuidados Pessoais           165.0           4    0.00   \n",
       "\n",
       "   valor_total   metodo_pagamento  id_cliente        cidade  \\\n",
       "0     18544.86             Boleto        6149  Porto Alegre   \n",
       "1       115.90                PIX        9491     São Paulo   \n",
       "2       151.58  Cartão de Crédito        5288   Porto Velho   \n",
       "3       444.95                PIX        9679        Recife   \n",
       "4       660.00                PIX        1380     São Paulo   \n",
       "\n",
       "                  uf    regiao  idade sexo_biologico  cashback  \\\n",
       "0  Rio Grande Do Sul       Sul     30      Masculino         1   \n",
       "1          São Paulo   Sudeste     36      Masculino         1   \n",
       "2           Rondônia     Norte     39       Feminino         0   \n",
       "3         Pernambuco  Nordeste     35      Masculino         1   \n",
       "4          São Paulo   Sudeste     50      Masculino         0   \n",
       "\n",
       "   avaliacao_compra  \n",
       "0                10  \n",
       "1                 8  \n",
       "2                 7  \n",
       "3                 9  \n",
       "4                 9  "
      ]
     },
     "execution_count": 4,
     "metadata": {},
     "output_type": "execute_result"
    }
   ],
   "source": [
    "# Leitura de dados em CSV\n",
    "dados = pd.read_csv(caminho_csv)\n",
    "\n",
    "dados.head()"
   ]
  },
  {
   "cell_type": "code",
   "execution_count": 5,
   "id": "bba20eae",
   "metadata": {},
   "outputs": [
    {
     "name": "stdout",
     "output_type": "stream",
     "text": [
      "<class 'pandas.core.frame.DataFrame'>\n",
      "RangeIndex: 6169 entries, 0 to 6168\n",
      "Data columns (total 20 columns):\n",
      " #   Column            Non-Null Count  Dtype  \n",
      "---  ------            --------------  -----  \n",
      " 0   id_compra         6169 non-null   int64  \n",
      " 1   data              6169 non-null   object \n",
      " 2   horario           6169 non-null   object \n",
      " 3   ano               6169 non-null   int64  \n",
      " 4   mes               6169 non-null   int64  \n",
      " 5   dia_semana        6169 non-null   object \n",
      " 6   categoria         6169 non-null   object \n",
      " 7   preco_unitario    6169 non-null   float64\n",
      " 8   quantidade        6169 non-null   int64  \n",
      " 9   frete             6169 non-null   float64\n",
      " 10  valor_total       6169 non-null   float64\n",
      " 11  metodo_pagamento  6169 non-null   object \n",
      " 12  id_cliente        6169 non-null   int64  \n",
      " 13  cidade            6169 non-null   object \n",
      " 14  uf                6169 non-null   object \n",
      " 15  regiao            6169 non-null   object \n",
      " 16  idade             6169 non-null   int64  \n",
      " 17  sexo_biologico    6169 non-null   object \n",
      " 18  cashback          6169 non-null   int64  \n",
      " 19  avaliacao_compra  6169 non-null   int64  \n",
      "dtypes: float64(3), int64(8), object(9)\n",
      "memory usage: 964.0+ KB\n"
     ]
    }
   ],
   "source": [
    "# Informação dos dados de cada coluna\n",
    "dados.info()"
   ]
  },
  {
   "cell_type": "code",
   "execution_count": 6,
   "id": "baef9537",
   "metadata": {},
   "outputs": [
    {
     "data": {
      "text/html": [
       "<div>\n",
       "<style scoped>\n",
       "    .dataframe tbody tr th:only-of-type {\n",
       "        vertical-align: middle;\n",
       "    }\n",
       "\n",
       "    .dataframe tbody tr th {\n",
       "        vertical-align: top;\n",
       "    }\n",
       "\n",
       "    .dataframe thead th {\n",
       "        text-align: right;\n",
       "    }\n",
       "</style>\n",
       "<table border=\"1\" class=\"dataframe\">\n",
       "  <thead>\n",
       "    <tr style=\"text-align: right;\">\n",
       "      <th></th>\n",
       "      <th>id_compra</th>\n",
       "      <th>ano</th>\n",
       "      <th>mes</th>\n",
       "      <th>preco_unitario</th>\n",
       "      <th>quantidade</th>\n",
       "      <th>frete</th>\n",
       "      <th>valor_total</th>\n",
       "      <th>id_cliente</th>\n",
       "      <th>idade</th>\n",
       "      <th>cashback</th>\n",
       "      <th>avaliacao_compra</th>\n",
       "    </tr>\n",
       "  </thead>\n",
       "  <tbody>\n",
       "    <tr>\n",
       "      <th>count</th>\n",
       "      <td>6169.000000</td>\n",
       "      <td>6169.0</td>\n",
       "      <td>6169.000000</td>\n",
       "      <td>6169.000000</td>\n",
       "      <td>6169.000000</td>\n",
       "      <td>6169.000000</td>\n",
       "      <td>6169.000000</td>\n",
       "      <td>6169.000000</td>\n",
       "      <td>6169.000000</td>\n",
       "      <td>6169.000000</td>\n",
       "      <td>6169.000000</td>\n",
       "    </tr>\n",
       "    <tr>\n",
       "      <th>mean</th>\n",
       "      <td>3085.000000</td>\n",
       "      <td>2023.0</td>\n",
       "      <td>8.131626</td>\n",
       "      <td>873.234738</td>\n",
       "      <td>3.004863</td>\n",
       "      <td>119.233832</td>\n",
       "      <td>2752.311154</td>\n",
       "      <td>5461.475280</td>\n",
       "      <td>38.260010</td>\n",
       "      <td>0.423407</td>\n",
       "      <td>8.443670</td>\n",
       "    </tr>\n",
       "    <tr>\n",
       "      <th>std</th>\n",
       "      <td>1780.981237</td>\n",
       "      <td>0.0</td>\n",
       "      <td>3.376771</td>\n",
       "      <td>1852.064342</td>\n",
       "      <td>1.420725</td>\n",
       "      <td>366.149225</td>\n",
       "      <td>6590.867737</td>\n",
       "      <td>2610.959977</td>\n",
       "      <td>9.838951</td>\n",
       "      <td>0.494139</td>\n",
       "      <td>1.730584</td>\n",
       "    </tr>\n",
       "    <tr>\n",
       "      <th>min</th>\n",
       "      <td>1.000000</td>\n",
       "      <td>2023.0</td>\n",
       "      <td>1.000000</td>\n",
       "      <td>2.900000</td>\n",
       "      <td>1.000000</td>\n",
       "      <td>0.000000</td>\n",
       "      <td>2.900000</td>\n",
       "      <td>1005.000000</td>\n",
       "      <td>18.000000</td>\n",
       "      <td>0.000000</td>\n",
       "      <td>0.000000</td>\n",
       "    </tr>\n",
       "    <tr>\n",
       "      <th>25%</th>\n",
       "      <td>1543.000000</td>\n",
       "      <td>2023.0</td>\n",
       "      <td>5.000000</td>\n",
       "      <td>44.900000</td>\n",
       "      <td>2.000000</td>\n",
       "      <td>0.320000</td>\n",
       "      <td>109.760000</td>\n",
       "      <td>3148.000000</td>\n",
       "      <td>31.000000</td>\n",
       "      <td>0.000000</td>\n",
       "      <td>8.000000</td>\n",
       "    </tr>\n",
       "    <tr>\n",
       "      <th>50%</th>\n",
       "      <td>3085.000000</td>\n",
       "      <td>2023.0</td>\n",
       "      <td>8.000000</td>\n",
       "      <td>93.900000</td>\n",
       "      <td>3.000000</td>\n",
       "      <td>7.550000</td>\n",
       "      <td>272.320000</td>\n",
       "      <td>5436.000000</td>\n",
       "      <td>38.000000</td>\n",
       "      <td>0.000000</td>\n",
       "      <td>9.000000</td>\n",
       "    </tr>\n",
       "    <tr>\n",
       "      <th>75%</th>\n",
       "      <td>4627.000000</td>\n",
       "      <td>2023.0</td>\n",
       "      <td>11.000000</td>\n",
       "      <td>221.900000</td>\n",
       "      <td>4.000000</td>\n",
       "      <td>29.240000</td>\n",
       "      <td>780.890000</td>\n",
       "      <td>7748.000000</td>\n",
       "      <td>45.000000</td>\n",
       "      <td>1.000000</td>\n",
       "      <td>9.000000</td>\n",
       "    </tr>\n",
       "    <tr>\n",
       "      <th>max</th>\n",
       "      <td>6169.000000</td>\n",
       "      <td>2023.0</td>\n",
       "      <td>12.000000</td>\n",
       "      <td>8000.000000</td>\n",
       "      <td>5.000000</td>\n",
       "      <td>4521.540000</td>\n",
       "      <td>43025.950000</td>\n",
       "      <td>9999.000000</td>\n",
       "      <td>70.000000</td>\n",
       "      <td>1.000000</td>\n",
       "      <td>10.000000</td>\n",
       "    </tr>\n",
       "  </tbody>\n",
       "</table>\n",
       "</div>"
      ],
      "text/plain": [
       "         id_compra     ano          mes  preco_unitario   quantidade  \\\n",
       "count  6169.000000  6169.0  6169.000000     6169.000000  6169.000000   \n",
       "mean   3085.000000  2023.0     8.131626      873.234738     3.004863   \n",
       "std    1780.981237     0.0     3.376771     1852.064342     1.420725   \n",
       "min       1.000000  2023.0     1.000000        2.900000     1.000000   \n",
       "25%    1543.000000  2023.0     5.000000       44.900000     2.000000   \n",
       "50%    3085.000000  2023.0     8.000000       93.900000     3.000000   \n",
       "75%    4627.000000  2023.0    11.000000      221.900000     4.000000   \n",
       "max    6169.000000  2023.0    12.000000     8000.000000     5.000000   \n",
       "\n",
       "             frete   valor_total   id_cliente        idade     cashback  \\\n",
       "count  6169.000000   6169.000000  6169.000000  6169.000000  6169.000000   \n",
       "mean    119.233832   2752.311154  5461.475280    38.260010     0.423407   \n",
       "std     366.149225   6590.867737  2610.959977     9.838951     0.494139   \n",
       "min       0.000000      2.900000  1005.000000    18.000000     0.000000   \n",
       "25%       0.320000    109.760000  3148.000000    31.000000     0.000000   \n",
       "50%       7.550000    272.320000  5436.000000    38.000000     0.000000   \n",
       "75%      29.240000    780.890000  7748.000000    45.000000     1.000000   \n",
       "max    4521.540000  43025.950000  9999.000000    70.000000     1.000000   \n",
       "\n",
       "       avaliacao_compra  \n",
       "count       6169.000000  \n",
       "mean           8.443670  \n",
       "std            1.730584  \n",
       "min            0.000000  \n",
       "25%            8.000000  \n",
       "50%            9.000000  \n",
       "75%            9.000000  \n",
       "max           10.000000  "
      ]
     },
     "execution_count": 6,
     "metadata": {},
     "output_type": "execute_result"
    }
   ],
   "source": [
    "#Estatística descritiva para varíaveis númericas\n",
    "dados.describe()"
   ]
  },
  {
   "cell_type": "code",
   "execution_count": 7,
   "id": "6b0f4a25",
   "metadata": {},
   "outputs": [
    {
     "data": {
      "text/plain": [
       "np.int64(0)"
      ]
     },
     "execution_count": 7,
     "metadata": {},
     "output_type": "execute_result"
    }
   ],
   "source": [
    "# Números de dados nulo no datafarme\n",
    "dados.isnull().sum().sum()"
   ]
  },
  {
   "cell_type": "code",
   "execution_count": 8,
   "id": "5a29324a",
   "metadata": {},
   "outputs": [
    {
     "data": {
      "text/plain": [
       "id_compra           0\n",
       "data                0\n",
       "horario             0\n",
       "ano                 0\n",
       "mes                 0\n",
       "dia_semana          0\n",
       "categoria           0\n",
       "preco_unitario      0\n",
       "quantidade          0\n",
       "frete               0\n",
       "valor_total         0\n",
       "metodo_pagamento    0\n",
       "id_cliente          0\n",
       "cidade              0\n",
       "uf                  0\n",
       "regiao              0\n",
       "idade               0\n",
       "sexo_biologico      0\n",
       "cashback            0\n",
       "avaliacao_compra    0\n",
       "dtype: int64"
      ]
     },
     "execution_count": 8,
     "metadata": {},
     "output_type": "execute_result"
    }
   ],
   "source": [
    "# Ddaos nulos por colunas\n",
    "dados.isnull().sum()"
   ]
  },
  {
   "cell_type": "markdown",
   "id": "426ff3a0",
   "metadata": {},
   "source": [
    "## Anáise de dados"
   ]
  },
  {
   "cell_type": "code",
   "execution_count": 9,
   "id": "d8f1eef3",
   "metadata": {},
   "outputs": [
    {
     "data": {
      "text/plain": [
       "sexo_biologico\n",
       "Feminino     3371\n",
       "Masculino    2798\n",
       "Name: count, dtype: int64"
      ]
     },
     "execution_count": 9,
     "metadata": {},
     "output_type": "execute_result"
    }
   ],
   "source": [
    "# Contagem da categoria sexo_biologico por cliente\n",
    "sexo_biologico = dados[\"sexo_biologico\"].value_counts()\n",
    "sexo_biologico"
   ]
  },
  {
   "cell_type": "code",
   "execution_count": 10,
   "id": "73cb7259",
   "metadata": {},
   "outputs": [
    {
     "data": {
      "text/plain": [
       "np.float64(38.2600097260496)"
      ]
     },
     "execution_count": 10,
     "metadata": {},
     "output_type": "execute_result"
    }
   ],
   "source": [
    "#Média de idadede dos clientes\n",
    "idede_media = dados[\"idade\"].mean()\n",
    "idede_media"
   ]
  },
  {
   "cell_type": "code",
   "execution_count": 11,
   "id": "e8185689",
   "metadata": {},
   "outputs": [
    {
     "data": {
      "text/plain": [
       "np.int64(18)"
      ]
     },
     "execution_count": 11,
     "metadata": {},
     "output_type": "execute_result"
    }
   ],
   "source": [
    "# Idadede Mínima dos clientes\n",
    "idade_minima = dados[\"idade\"].min()\n",
    "idade_minima"
   ]
  },
  {
   "cell_type": "code",
   "execution_count": 12,
   "id": "ea3c214b",
   "metadata": {},
   "outputs": [
    {
     "data": {
      "text/plain": [
       "np.int64(70)"
      ]
     },
     "execution_count": 12,
     "metadata": {},
     "output_type": "execute_result"
    }
   ],
   "source": [
    "# Idadede Maxima dos clientes\n",
    "idade_maxima = dados[\"idade\"].max()\n",
    "idade_maxima"
   ]
  },
  {
   "cell_type": "code",
   "execution_count": 13,
   "id": "2e2f28d7",
   "metadata": {},
   "outputs": [
    {
     "data": {
      "text/plain": [
       "categoria\n",
       "Alimentos E Bebidas           1495\n",
       "Beleza E Cuidados Pessoais    1062\n",
       "Casa E Limpeza                1041\n",
       "Name: count, dtype: int64"
      ]
     },
     "execution_count": 13,
     "metadata": {},
     "output_type": "execute_result"
    }
   ],
   "source": [
    "# Lista das três categorias mais vendidas\n",
    "top_categorias = dados[\"categoria\"].value_counts().head(3)\n",
    "top_categorias"
   ]
  },
  {
   "cell_type": "code",
   "execution_count": 14,
   "id": "fc151659",
   "metadata": {},
   "outputs": [
    {
     "data": {
      "text/plain": [
       "categoria\n",
       "Eletrônicos                   11025894.73\n",
       "Eletrodomésticos               4548591.79\n",
       "Beleza E Cuidados Pessoais      441649.72\n",
       "Name: valor_total, dtype: float64"
      ]
     },
     "execution_count": 14,
     "metadata": {},
     "output_type": "execute_result"
    }
   ],
   "source": [
    "# Lista das três categorias que tiveram maior valor total\n",
    "top_categorias_valor = dados.groupby(\"categoria\")[\"valor_total\"].sum().nlargest(3)\n",
    "top_categorias_valor"
   ]
  },
  {
   "cell_type": "code",
   "execution_count": 15,
   "id": "722fe9c3",
   "metadata": {},
   "outputs": [
    {
     "data": {
      "text/plain": [
       "cidade\n",
       "São Paulo         1167924.60\n",
       "Salvador           952644.84\n",
       "Curitiba           867529.97\n",
       "João Pessoa        815699.95\n",
       "Rio De Janeiro     777825.86\n",
       "Name: valor_total, dtype: float64"
      ]
     },
     "execution_count": 15,
     "metadata": {},
     "output_type": "execute_result"
    }
   ],
   "source": [
    "# Lista 5 cidades que tiveram maior valor total\n",
    "top_cidades_valor = dados.groupby(\"cidade\")[\"valor_total\"].sum().nlargest(5)\n",
    "top_cidades_valor"
   ]
  },
  {
   "cell_type": "code",
   "execution_count": 16,
   "id": "bc350e35",
   "metadata": {},
   "outputs": [
    {
     "data": {
      "text/plain": [
       "regiao\n",
       "Sudeste         6833258.52\n",
       "Nordeste        5249059.11\n",
       "Sul             2454932.45\n",
       "Centro-Oeste    1393880.91\n",
       "Norte           1047876.52\n",
       "Name: valor_total, dtype: float64"
      ]
     },
     "execution_count": 16,
     "metadata": {},
     "output_type": "execute_result"
    }
   ],
   "source": [
    "# Lista das 5 regiões que tiveram maior valor total\n",
    "top_regioes_valor = dados.groupby(\"regiao\")[\"valor_total\"].sum().nlargest(5)\n",
    "top_regioes_valor"
   ]
  },
  {
   "cell_type": "code",
   "execution_count": 17,
   "id": "2eeceb2c",
   "metadata": {},
   "outputs": [
    {
     "data": {
      "text/html": [
       "<div>\n",
       "<style scoped>\n",
       "    .dataframe tbody tr th:only-of-type {\n",
       "        vertical-align: middle;\n",
       "    }\n",
       "\n",
       "    .dataframe tbody tr th {\n",
       "        vertical-align: top;\n",
       "    }\n",
       "\n",
       "    .dataframe thead th {\n",
       "        text-align: right;\n",
       "    }\n",
       "</style>\n",
       "<table border=\"1\" class=\"dataframe\">\n",
       "  <thead>\n",
       "    <tr style=\"text-align: right;\">\n",
       "      <th>categoria</th>\n",
       "      <th>Alimentos E Bebidas</th>\n",
       "      <th>Beleza E Cuidados Pessoais</th>\n",
       "      <th>Casa E Limpeza</th>\n",
       "      <th>Eletrodomésticos</th>\n",
       "      <th>Eletrônicos</th>\n",
       "      <th>Ferramentas E Construção</th>\n",
       "      <th>Livros</th>\n",
       "      <th>Papelaria E Escritório</th>\n",
       "    </tr>\n",
       "    <tr>\n",
       "      <th>sexo_biologico</th>\n",
       "      <th></th>\n",
       "      <th></th>\n",
       "      <th></th>\n",
       "      <th></th>\n",
       "      <th></th>\n",
       "      <th></th>\n",
       "      <th></th>\n",
       "      <th></th>\n",
       "    </tr>\n",
       "  </thead>\n",
       "  <tbody>\n",
       "    <tr>\n",
       "      <th>Feminino</th>\n",
       "      <td>854</td>\n",
       "      <td>657</td>\n",
       "      <td>628</td>\n",
       "      <td>353</td>\n",
       "      <td>297</td>\n",
       "      <td>177</td>\n",
       "      <td>153</td>\n",
       "      <td>252</td>\n",
       "    </tr>\n",
       "    <tr>\n",
       "      <th>Masculino</th>\n",
       "      <td>641</td>\n",
       "      <td>405</td>\n",
       "      <td>413</td>\n",
       "      <td>312</td>\n",
       "      <td>283</td>\n",
       "      <td>297</td>\n",
       "      <td>148</td>\n",
       "      <td>299</td>\n",
       "    </tr>\n",
       "  </tbody>\n",
       "</table>\n",
       "</div>"
      ],
      "text/plain": [
       "categoria       Alimentos E Bebidas  Beleza E Cuidados Pessoais  \\\n",
       "sexo_biologico                                                    \n",
       "Feminino                        854                         657   \n",
       "Masculino                       641                         405   \n",
       "\n",
       "categoria       Casa E Limpeza  Eletrodomésticos  Eletrônicos  \\\n",
       "sexo_biologico                                                  \n",
       "Feminino                   628               353          297   \n",
       "Masculino                  413               312          283   \n",
       "\n",
       "categoria       Ferramentas E Construção  Livros  Papelaria E Escritório  \n",
       "sexo_biologico                                                            \n",
       "Feminino                             177     153                     252  \n",
       "Masculino                            297     148                     299  "
      ]
     },
     "execution_count": 17,
     "metadata": {},
     "output_type": "execute_result"
    }
   ],
   "source": [
    "# Categoria mais comprada por sexo biológico\n",
    "sexo_categoria = dados.groupby(\"sexo_biologico\")[\"categoria\"].value_counts().unstack().fillna(0)\n",
    "sexo_categoria\n"
   ]
  },
  {
   "cell_type": "code",
   "execution_count": 18,
   "id": "2c09fd0d",
   "metadata": {},
   "outputs": [
    {
     "data": {
      "text/html": [
       "<div>\n",
       "<style scoped>\n",
       "    .dataframe tbody tr th:only-of-type {\n",
       "        vertical-align: middle;\n",
       "    }\n",
       "\n",
       "    .dataframe tbody tr th {\n",
       "        vertical-align: top;\n",
       "    }\n",
       "\n",
       "    .dataframe thead th {\n",
       "        text-align: right;\n",
       "    }\n",
       "</style>\n",
       "<table border=\"1\" class=\"dataframe\">\n",
       "  <thead>\n",
       "    <tr style=\"text-align: right;\">\n",
       "      <th>categoria</th>\n",
       "      <th>Alimentos E Bebidas</th>\n",
       "      <th>Beleza E Cuidados Pessoais</th>\n",
       "      <th>Casa E Limpeza</th>\n",
       "      <th>Eletrodomésticos</th>\n",
       "      <th>Eletrônicos</th>\n",
       "      <th>Ferramentas E Construção</th>\n",
       "      <th>Livros</th>\n",
       "      <th>Papelaria E Escritório</th>\n",
       "    </tr>\n",
       "    <tr>\n",
       "      <th>regiao</th>\n",
       "      <th></th>\n",
       "      <th></th>\n",
       "      <th></th>\n",
       "      <th></th>\n",
       "      <th></th>\n",
       "      <th></th>\n",
       "      <th></th>\n",
       "      <th></th>\n",
       "    </tr>\n",
       "  </thead>\n",
       "  <tbody>\n",
       "    <tr>\n",
       "      <th>Centro-Oeste</th>\n",
       "      <td>116</td>\n",
       "      <td>80</td>\n",
       "      <td>93</td>\n",
       "      <td>59</td>\n",
       "      <td>44</td>\n",
       "      <td>39</td>\n",
       "      <td>27</td>\n",
       "      <td>37</td>\n",
       "    </tr>\n",
       "    <tr>\n",
       "      <th>Nordeste</th>\n",
       "      <td>460</td>\n",
       "      <td>311</td>\n",
       "      <td>322</td>\n",
       "      <td>200</td>\n",
       "      <td>176</td>\n",
       "      <td>157</td>\n",
       "      <td>85</td>\n",
       "      <td>171</td>\n",
       "    </tr>\n",
       "    <tr>\n",
       "      <th>Norte</th>\n",
       "      <td>72</td>\n",
       "      <td>53</td>\n",
       "      <td>50</td>\n",
       "      <td>33</td>\n",
       "      <td>32</td>\n",
       "      <td>24</td>\n",
       "      <td>14</td>\n",
       "      <td>29</td>\n",
       "    </tr>\n",
       "    <tr>\n",
       "      <th>Sudeste</th>\n",
       "      <td>639</td>\n",
       "      <td>488</td>\n",
       "      <td>433</td>\n",
       "      <td>287</td>\n",
       "      <td>241</td>\n",
       "      <td>194</td>\n",
       "      <td>141</td>\n",
       "      <td>243</td>\n",
       "    </tr>\n",
       "    <tr>\n",
       "      <th>Sul</th>\n",
       "      <td>208</td>\n",
       "      <td>130</td>\n",
       "      <td>143</td>\n",
       "      <td>86</td>\n",
       "      <td>87</td>\n",
       "      <td>60</td>\n",
       "      <td>34</td>\n",
       "      <td>71</td>\n",
       "    </tr>\n",
       "  </tbody>\n",
       "</table>\n",
       "</div>"
      ],
      "text/plain": [
       "categoria     Alimentos E Bebidas  Beleza E Cuidados Pessoais  Casa E Limpeza  \\\n",
       "regiao                                                                          \n",
       "Centro-Oeste                  116                          80              93   \n",
       "Nordeste                      460                         311             322   \n",
       "Norte                          72                          53              50   \n",
       "Sudeste                       639                         488             433   \n",
       "Sul                           208                         130             143   \n",
       "\n",
       "categoria     Eletrodomésticos  Eletrônicos  Ferramentas E Construção  Livros  \\\n",
       "regiao                                                                          \n",
       "Centro-Oeste                59           44                        39      27   \n",
       "Nordeste                   200          176                       157      85   \n",
       "Norte                       33           32                        24      14   \n",
       "Sudeste                    287          241                       194     141   \n",
       "Sul                         86           87                        60      34   \n",
       "\n",
       "categoria     Papelaria E Escritório  \n",
       "regiao                                \n",
       "Centro-Oeste                      37  \n",
       "Nordeste                         171  \n",
       "Norte                             29  \n",
       "Sudeste                          243  \n",
       "Sul                               71  "
      ]
     },
     "execution_count": 18,
     "metadata": {},
     "output_type": "execute_result"
    }
   ],
   "source": [
    "# Categorias mais vendidadas por região\n",
    "categorias_regiao = dados.groupby(\"regiao\")[\"categoria\"].value_counts().unstack().fillna(0)\n",
    "categorias_regiao   \n"
   ]
  },
  {
   "cell_type": "code",
   "execution_count": 19,
   "id": "6bc4092d",
   "metadata": {},
   "outputs": [
    {
     "data": {
      "text/plain": [
       "cidade\n",
       "São Paulo         458\n",
       "Salvador          382\n",
       "Rio De Janeiro    284\n",
       "Brasília          263\n",
       "Porto Alegre      260\n",
       "Name: count, dtype: int64"
      ]
     },
     "execution_count": 19,
     "metadata": {},
     "output_type": "execute_result"
    }
   ],
   "source": [
    "# listas com as Cinco (5) cidades com maior número de vendas\n",
    "top_cidades_vendas = dados[\"cidade\"].value_counts().head(5)\n",
    "top_cidades_vendas"
   ]
  },
  {
   "cell_type": "code",
   "execution_count": 20,
   "id": "e0e7e151",
   "metadata": {},
   "outputs": [
    {
     "data": {
      "text/plain": [
       "metodo_pagamento\n",
       "Cartão de Crédito    2851\n",
       "PIX                  2244\n",
       "Cartão de Débito      547\n",
       "Boleto                527\n",
       "Name: count, dtype: int64"
      ]
     },
     "execution_count": 20,
     "metadata": {},
     "output_type": "execute_result"
    }
   ],
   "source": [
    "# Método de pagamento mais utilizado\n",
    "metodo_pagamento = dados[\"metodo_pagamento\"].value_counts()\n",
    "metodo_pagamento"
   ]
  },
  {
   "cell_type": "code",
   "execution_count": 21,
   "id": "653e5bc5",
   "metadata": {},
   "outputs": [
    {
     "data": {
      "text/html": [
       "<div>\n",
       "<style scoped>\n",
       "    .dataframe tbody tr th:only-of-type {\n",
       "        vertical-align: middle;\n",
       "    }\n",
       "\n",
       "    .dataframe tbody tr th {\n",
       "        vertical-align: top;\n",
       "    }\n",
       "\n",
       "    .dataframe thead th {\n",
       "        text-align: right;\n",
       "    }\n",
       "</style>\n",
       "<table border=\"1\" class=\"dataframe\">\n",
       "  <thead>\n",
       "    <tr style=\"text-align: right;\">\n",
       "      <th>metodo_pagamento</th>\n",
       "      <th>Boleto</th>\n",
       "      <th>Cartão de Crédito</th>\n",
       "      <th>Cartão de Débito</th>\n",
       "      <th>PIX</th>\n",
       "    </tr>\n",
       "    <tr>\n",
       "      <th>sexo_biologico</th>\n",
       "      <th></th>\n",
       "      <th></th>\n",
       "      <th></th>\n",
       "      <th></th>\n",
       "    </tr>\n",
       "  </thead>\n",
       "  <tbody>\n",
       "    <tr>\n",
       "      <th>Feminino</th>\n",
       "      <td>296</td>\n",
       "      <td>1550</td>\n",
       "      <td>284</td>\n",
       "      <td>1241</td>\n",
       "    </tr>\n",
       "    <tr>\n",
       "      <th>Masculino</th>\n",
       "      <td>231</td>\n",
       "      <td>1301</td>\n",
       "      <td>263</td>\n",
       "      <td>1003</td>\n",
       "    </tr>\n",
       "  </tbody>\n",
       "</table>\n",
       "</div>"
      ],
      "text/plain": [
       "metodo_pagamento  Boleto  Cartão de Crédito  Cartão de Débito   PIX\n",
       "sexo_biologico                                                     \n",
       "Feminino             296               1550               284  1241\n",
       "Masculino            231               1301               263  1003"
      ]
     },
     "execution_count": 21,
     "metadata": {},
     "output_type": "execute_result"
    }
   ],
   "source": [
    "# Metodo de pagamento mais utilizado por sexo biológico\n",
    "sexo_metodo_pagamento = dados.groupby(\"sexo_biologico\")[\"metodo_pagamento\"].value_counts().unstack().fillna(0)\n",
    "sexo_metodo_pagamento"
   ]
  },
  {
   "cell_type": "code",
   "execution_count": 22,
   "id": "067f5a3b",
   "metadata": {},
   "outputs": [
    {
     "data": {
      "text/html": [
       "<div>\n",
       "<style scoped>\n",
       "    .dataframe tbody tr th:only-of-type {\n",
       "        vertical-align: middle;\n",
       "    }\n",
       "\n",
       "    .dataframe tbody tr th {\n",
       "        vertical-align: top;\n",
       "    }\n",
       "\n",
       "    .dataframe thead th {\n",
       "        text-align: right;\n",
       "    }\n",
       "</style>\n",
       "<table border=\"1\" class=\"dataframe\">\n",
       "  <thead>\n",
       "    <tr style=\"text-align: right;\">\n",
       "      <th>metodo_pagamento</th>\n",
       "      <th>Boleto</th>\n",
       "      <th>Cartão de Crédito</th>\n",
       "      <th>Cartão de Débito</th>\n",
       "      <th>PIX</th>\n",
       "    </tr>\n",
       "    <tr>\n",
       "      <th>regiao</th>\n",
       "      <th></th>\n",
       "      <th></th>\n",
       "      <th></th>\n",
       "      <th></th>\n",
       "    </tr>\n",
       "  </thead>\n",
       "  <tbody>\n",
       "    <tr>\n",
       "      <th>Centro-Oeste</th>\n",
       "      <td>50</td>\n",
       "      <td>236</td>\n",
       "      <td>42</td>\n",
       "      <td>167</td>\n",
       "    </tr>\n",
       "    <tr>\n",
       "      <th>Nordeste</th>\n",
       "      <td>160</td>\n",
       "      <td>847</td>\n",
       "      <td>171</td>\n",
       "      <td>704</td>\n",
       "    </tr>\n",
       "    <tr>\n",
       "      <th>Norte</th>\n",
       "      <td>28</td>\n",
       "      <td>145</td>\n",
       "      <td>21</td>\n",
       "      <td>113</td>\n",
       "    </tr>\n",
       "    <tr>\n",
       "      <th>Sudeste</th>\n",
       "      <td>224</td>\n",
       "      <td>1237</td>\n",
       "      <td>240</td>\n",
       "      <td>965</td>\n",
       "    </tr>\n",
       "    <tr>\n",
       "      <th>Sul</th>\n",
       "      <td>65</td>\n",
       "      <td>386</td>\n",
       "      <td>73</td>\n",
       "      <td>295</td>\n",
       "    </tr>\n",
       "  </tbody>\n",
       "</table>\n",
       "</div>"
      ],
      "text/plain": [
       "metodo_pagamento  Boleto  Cartão de Crédito  Cartão de Débito  PIX\n",
       "regiao                                                            \n",
       "Centro-Oeste          50                236                42  167\n",
       "Nordeste             160                847               171  704\n",
       "Norte                 28                145                21  113\n",
       "Sudeste              224               1237               240  965\n",
       "Sul                   65                386                73  295"
      ]
     },
     "execution_count": 22,
     "metadata": {},
     "output_type": "execute_result"
    }
   ],
   "source": [
    "# Metodo de pagamento mais utilizado por região\n",
    "metodo_pagamento_regiao = dados.groupby(\"regiao\")[\"metodo_pagamento\"].value_counts().unstack().fillna(0)\n",
    "metodo_pagamento_regiao\n"
   ]
  },
  {
   "cell_type": "code",
   "execution_count": 23,
   "id": "15644114",
   "metadata": {},
   "outputs": [
    {
     "data": {
      "text/plain": [
       "cidade\n",
       "São Paulo         191\n",
       "Salvador          169\n",
       "Rio De Janeiro    142\n",
       "Brasília          131\n",
       "Recife            127\n",
       "Name: count, dtype: int64"
      ]
     },
     "execution_count": 23,
     "metadata": {},
     "output_type": "execute_result"
    }
   ],
   "source": [
    "# As Cinco (5) cidades com maior números de pagamentos com cartão de crédito\n",
    "top_cidades_cartao_credito = dados[dados[\"metodo_pagamento\"].isin([\"Cartão de Crédito\"])][\"cidade\"].value_counts().head(5)\n",
    "top_cidades_cartao_credito"
   ]
  },
  {
   "cell_type": "code",
   "execution_count": 24,
   "id": "1bab0e64",
   "metadata": {},
   "outputs": [
    {
     "data": {
      "text/plain": [
       "cidade\n",
       "São Paulo         195\n",
       "Salvador          142\n",
       "Fortaleza         102\n",
       "Porto Alegre      102\n",
       "Belo Horizonte    101\n",
       "Name: count, dtype: int64"
      ]
     },
     "execution_count": 24,
     "metadata": {},
     "output_type": "execute_result"
    }
   ],
   "source": [
    "# As Cinco (5) cidades com maior números de pagamentos com Pix\n",
    "top_cidades_pix = dados[dados[\"metodo_pagamento\"].isin([\"PIX\"])][\"cidade\"].value_counts().head(5)\n",
    "top_cidades_pix"
   ]
  },
  {
   "cell_type": "code",
   "execution_count": 26,
   "id": "643065fa",
   "metadata": {},
   "outputs": [
    {
     "data": {
      "text/plain": [
       "np.float64(8.44366996271681)"
      ]
     },
     "execution_count": 26,
     "metadata": {},
     "output_type": "execute_result"
    }
   ],
   "source": [
    "# média de avaliação dos clientes\n",
    "media_avaliacao = dados[\"avaliacao_compra\"].mean()\n",
    "media_avaliacao"
   ]
  }
 ],
 "metadata": {
  "kernelspec": {
   "display_name": "Python 3",
   "language": "python",
   "name": "python3"
  },
  "language_info": {
   "codemirror_mode": {
    "name": "ipython",
    "version": 3
   },
   "file_extension": ".py",
   "mimetype": "text/x-python",
   "name": "python",
   "nbconvert_exporter": "python",
   "pygments_lexer": "ipython3",
   "version": "3.13.6"
  }
 },
 "nbformat": 4,
 "nbformat_minor": 5
}
